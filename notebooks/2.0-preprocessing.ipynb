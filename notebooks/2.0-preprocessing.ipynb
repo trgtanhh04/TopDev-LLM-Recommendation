{
 "cells": [
  {
   "cell_type": "markdown",
   "id": "98c3a835-f6f0-45ef-a3f7-d955b33860d1",
   "metadata": {},
   "source": [
    "<div style=\"text-align: center; background-color: #b1d1ff; font-family: 'Trebuchet MS', Arial, sans-serif; color: white; padding: 20px; font-size: 40px; font-weight: bold; border-radius: 0 0 0 0; box-shadow: 0px 6px 8px rgba(0, 0, 0, 0.2);\">\n",
    "  Stage 02 - Preprocessing\n",
    "</div>"
   ]
  },
  {
<<<<<<< HEAD
   "cell_type": "code",
   "execution_count": 266,
   "id": "2b74278e",
   "metadata": {},
   "outputs": [],
   "source": [
    "import pandas as pd\n",
    "import numpy as np\n",
    "import regex as re\n",
    "import ast "
   ]
  },
  {
   "cell_type": "markdown",
   "id": "5fe153c2",
   "metadata": {},
   "source": [
    "1. Đọc dữ liệu từ file đã draw và xem xét những thông tin chung của dữ liệu"
=======
   "cell_type": "markdown",
   "id": "eb9f7d72",
   "metadata": {},
   "source": [
    "---"
   ]
  },
  {
   "cell_type": "markdown",
   "id": "432843af",
   "metadata": {},
   "source": [
    "## Import library"
   ]
  },
  {
   "cell_type": "code",
   "execution_count": 1,
   "id": "c4188b33",
   "metadata": {},
   "outputs": [],
   "source": [
    "import numpy as np\n",
    "import pandas as pd\n",
    "import os\n",
    "import sys\n",
    "import re"
>>>>>>> 9da2071f8777a803b189c7200cdb6f275edb5c35
   ]
  },
  {
   "cell_type": "code",
<<<<<<< HEAD
   "execution_count": null,
   "id": "5ecf51c4",
   "metadata": {},
   "outputs": [
    {
     "data": {
      "text/plain": [
       "Index(['job_title', 'company_name', 'salary', 'address', 'date_posted',\n",
       "       'industry', 'company_size', 'company_nationality', 'experience_years',\n",
       "       'position_level', 'employment_type', 'contract_type',\n",
       "       'technologies_used', 'job_description', 'company_url', 'job_url'],\n",
       "      dtype='object')"
      ]
     },
     "execution_count": 267,
     "metadata": {},
     "output_type": "execute_result"
    }
   ],
   "source": [
    "df = pd.read_csv('../data/raw_data.csv')\n",
    "df.shape"
   ]
  },
  {
   "cell_type": "code",
   "execution_count": 283,
   "id": "7df8e60c",
   "metadata": {},
   "outputs": [
    {
     "data": {
      "text/plain": [
       "Index(['job_title', 'company_name', 'salary', 'address', 'industry',\n",
       "       'company_size', 'company_nationality', 'experience_years',\n",
       "       'position_level', 'employment_type', 'contract_type',\n",
       "       'technologies_used', 'job_description'],\n",
       "      dtype='object')"
      ]
     },
     "execution_count": 283,
     "metadata": {},
     "output_type": "execute_result"
    }
   ],
   "source": [
    "df.columns"
   ]
  },
  {
   "cell_type": "code",
   "execution_count": 268,
   "id": "e9ce1530",
   "metadata": {},
   "outputs": [
    {
     "data": {
      "text/plain": [
       "job_title              object\n",
       "company_name           object\n",
       "salary                 object\n",
       "address                object\n",
       "date_posted            object\n",
       "industry               object\n",
       "company_size           object\n",
       "company_nationality    object\n",
       "experience_years       object\n",
       "position_level         object\n",
       "employment_type        object\n",
       "contract_type          object\n",
       "technologies_used      object\n",
       "job_description        object\n",
       "company_url            object\n",
       "job_url                object\n",
       "dtype: object"
      ]
     },
     "execution_count": 268,
     "metadata": {},
     "output_type": "execute_result"
    }
   ],
   "source": [
    "df.dtypes"
   ]
  },
  {
   "cell_type": "markdown",
   "id": "e17df634",
   "metadata": {},
   "source": [
    "2. Xóa các thuộc tính không cần thiết cho việc xây dụng mô hình"
   ]
  },
  {
   "cell_type": "code",
   "execution_count": null,
   "id": "7db98614",
   "metadata": {},
   "outputs": [],
   "source": [
    "df = df.drop(columns=['date_posted'])"
=======
   "execution_count": 2,
   "id": "0d376e83",
   "metadata": {},
   "outputs": [],
   "source": [
    "pd.set_option('display.max_columns', None)\n",
    "pd.set_option('display.max_rows', None)"
   ]
  },
  {
   "cell_type": "markdown",
   "id": "da6aa459",
   "metadata": {},
   "source": [
    "## Read data"
>>>>>>> 9da2071f8777a803b189c7200cdb6f275edb5c35
   ]
  },
  {
   "cell_type": "code",
<<<<<<< HEAD
   "execution_count": 270,
   "id": "689a9401",
=======
   "execution_count": 3,
   "id": "9fdedae0",
>>>>>>> 9da2071f8777a803b189c7200cdb6f275edb5c35
   "metadata": {},
   "outputs": [
    {
     "data": {
      "text/html": [
       "<div>\n",
       "<style scoped>\n",
       "    .dataframe tbody tr th:only-of-type {\n",
       "        vertical-align: middle;\n",
       "    }\n",
       "\n",
       "    .dataframe tbody tr th {\n",
       "        vertical-align: top;\n",
       "    }\n",
       "\n",
       "    .dataframe thead th {\n",
       "        text-align: right;\n",
       "    }\n",
       "</style>\n",
       "<table border=\"1\" class=\"dataframe\">\n",
       "  <thead>\n",
       "    <tr style=\"text-align: right;\">\n",
       "      <th></th>\n",
       "      <th>job_title</th>\n",
       "      <th>company_name</th>\n",
       "      <th>salary</th>\n",
       "      <th>address</th>\n",
<<<<<<< HEAD
=======
       "      <th>date_posted</th>\n",
>>>>>>> 9da2071f8777a803b189c7200cdb6f275edb5c35
       "      <th>industry</th>\n",
       "      <th>company_size</th>\n",
       "      <th>company_nationality</th>\n",
       "      <th>experience_years</th>\n",
       "      <th>position_level</th>\n",
       "      <th>employment_type</th>\n",
       "      <th>contract_type</th>\n",
       "      <th>technologies_used</th>\n",
       "      <th>job_description</th>\n",
<<<<<<< HEAD
=======
       "      <th>company_url</th>\n",
       "      <th>job_url</th>\n",
>>>>>>> 9da2071f8777a803b189c7200cdb6f275edb5c35
       "    </tr>\n",
       "  </thead>\n",
       "  <tbody>\n",
       "    <tr>\n",
       "      <th>0</th>\n",
       "      <td>UX/UI Designer (Game)</td>\n",
       "      <td>CÔNG TY CỔ PHẦN SUNTEK</td>\n",
       "      <td>Thương lượng</td>\n",
       "      <td>['Thành phố Thủ Đức, Hồ Chí Minh']</td>\n",
<<<<<<< HEAD
=======
       "      <td>['Đăng 1 giờ trước']</td>\n",
>>>>>>> 9da2071f8777a803b189c7200cdb6f275edb5c35
       "      <td>['Giải trí/ Game']</td>\n",
       "      <td>['25-99 Nhân viên']</td>\n",
       "      <td>['Thailand']</td>\n",
       "      <td>['Từ 2 năm']</td>\n",
       "      <td>['Junior', 'Middle']</td>\n",
       "      <td>['In Office']</td>\n",
       "      <td>['Fulltime']</td>\n",
       "      <td>['UX/UI Design', 'HTML &amp; CSS', 'UI/UX']</td>\n",
       "      <td>['Trách nhiệm công việc\\n1. General task\\nHave...</td>\n",
<<<<<<< HEAD
=======
       "      <td>['https://topdev.vn/nha-tuyen-dung/cong-ty-co-...</td>\n",
       "      <td>https://topdev.vn/viec-lam/ux-ui-designer-game...</td>\n",
>>>>>>> 9da2071f8777a803b189c7200cdb6f275edb5c35
       "    </tr>\n",
       "    <tr>\n",
       "      <th>1</th>\n",
       "      <td>Senior DevOps Engineer</td>\n",
       "      <td>CÔNG TY CỔ PHẦN CÔNG NGHỆ ỨNG DỤNG XANH VIỆT NAM</td>\n",
       "      <td>40.000.000 VND to 50.000.000 VND</td>\n",
       "      <td>['Quận Ba Đình, Hà Nội']</td>\n",
<<<<<<< HEAD
=======
       "      <td>['Đăng 3 giờ trước']</td>\n",
>>>>>>> 9da2071f8777a803b189c7200cdb6f275edb5c35
       "      <td>[]</td>\n",
       "      <td>['Nhân viên']</td>\n",
       "      <td>[]</td>\n",
       "      <td>['Từ 5 năm']</td>\n",
       "      <td>['Senior']</td>\n",
       "      <td>['In Office']</td>\n",
       "      <td>['Fulltime']</td>\n",
       "      <td>['DevOps', 'Docker', 'Ansible', 'CI/CD', 'Terr...</td>\n",
       "      <td>['GA là một công ty khởi nghiệp, phát triển và...</td>\n",
<<<<<<< HEAD
=======
       "      <td>['https://topdev.vn/nha-tuyen-dung/cong-ty-co-...</td>\n",
       "      <td>https://topdev.vn/viec-lam/senior-devops-engin...</td>\n",
>>>>>>> 9da2071f8777a803b189c7200cdb6f275edb5c35
       "    </tr>\n",
       "    <tr>\n",
       "      <th>2</th>\n",
       "      <td>KỸ SƯ PHẦN MỀM (C# Developer) - Urgent</td>\n",
       "      <td>Aram Vina</td>\n",
       "      <td>Lên tới 1.500 VND</td>\n",
       "      <td>['Quận Tây Hồ, Hà Nội']</td>\n",
<<<<<<< HEAD
=======
       "      <td>['Đăng 5 giờ trước']</td>\n",
>>>>>>> 9da2071f8777a803b189c7200cdb6f275edb5c35
       "      <td>['Thiết Kế, Software, Gia công phần mềm, Triển...</td>\n",
       "      <td>['25-99 Nhân viên']</td>\n",
       "      <td>['South-Korea']</td>\n",
       "      <td>['Không yêu cầu']</td>\n",
       "      <td>['Fresher', 'Junior', 'Middle']</td>\n",
       "      <td>['In Office']</td>\n",
       "      <td>['Fulltime']</td>\n",
       "      <td>['C#', 'WPF', 'Software Developer']</td>\n",
       "      <td>['CÔNG TY TNHH ARAM VINA cần tuyển dụng GẤP KỸ...</td>\n",
<<<<<<< HEAD
=======
       "      <td>['https://topdev.vn/nha-tuyen-dung/aram-vina-9...</td>\n",
       "      <td>https://topdev.vn/viec-lam/ky-su-phan-mem-c-de...</td>\n",
>>>>>>> 9da2071f8777a803b189c7200cdb6f275edb5c35
       "    </tr>\n",
       "    <tr>\n",
       "      <th>3</th>\n",
       "      <td>Chuyên viên Thẩm định mua sắm CNTT</td>\n",
       "      <td>Ban Công nghệ BIDV</td>\n",
       "      <td>Thương lượng</td>\n",
       "      <td>['Quận Hai Bà Trưng, Hà Nội']</td>\n",
<<<<<<< HEAD
=======
       "      <td>['Đăng 5 giờ trước']</td>\n",
>>>>>>> 9da2071f8777a803b189c7200cdb6f275edb5c35
       "      <td>['Ngân Hàng']</td>\n",
       "      <td>['Hơn 1000 Nhân viên']</td>\n",
       "      <td>['Vietnam']</td>\n",
       "      <td>['Từ 3 năm']</td>\n",
       "      <td>['Middle']</td>\n",
       "      <td>['In Office']</td>\n",
       "      <td>['Fulltime']</td>\n",
       "      <td>['IT Support', 'IT Service']</td>\n",
       "      <td>['Trách nhiệm công việc\\nThực hiện công tác th...</td>\n",
<<<<<<< HEAD
=======
       "      <td>['https://topdev.vn/nha-tuyen-dung/ban-cong-ng...</td>\n",
       "      <td>https://topdev.vn/viec-lam/chuyen-vien-tham-di...</td>\n",
>>>>>>> 9da2071f8777a803b189c7200cdb6f275edb5c35
       "    </tr>\n",
       "    <tr>\n",
       "      <th>4</th>\n",
       "      <td>Chuyên viên Quản lý Chuyển đổi số</td>\n",
       "      <td>Ban Công nghệ BIDV</td>\n",
       "      <td>Thương lượng</td>\n",
       "      <td>['Quận Hai Bà Trưng, Hà Nội']</td>\n",
<<<<<<< HEAD
=======
       "      <td>['Đăng 5 giờ trước']</td>\n",
>>>>>>> 9da2071f8777a803b189c7200cdb6f275edb5c35
       "      <td>['Ngân Hàng']</td>\n",
       "      <td>['Hơn 1000 Nhân viên']</td>\n",
       "      <td>['Vietnam']</td>\n",
       "      <td>['Từ 2 năm']</td>\n",
       "      <td>['Junior', 'Middle']</td>\n",
       "      <td>['In Office']</td>\n",
       "      <td>['Fulltime']</td>\n",
       "      <td>['Agile', 'Project Manager', 'Product Owner', ...</td>\n",
       "      <td>['Trách nhiệm công việc\\nPhối hợp triển khai t...</td>\n",
<<<<<<< HEAD
=======
       "      <td>['https://topdev.vn/nha-tuyen-dung/ban-cong-ng...</td>\n",
       "      <td>https://topdev.vn/viec-lam/chuyen-vien-quan-ly...</td>\n",
>>>>>>> 9da2071f8777a803b189c7200cdb6f275edb5c35
       "    </tr>\n",
       "  </tbody>\n",
       "</table>\n",
       "</div>"
      ],
      "text/plain": [
       "                                job_title  \\\n",
       "0                   UX/UI Designer (Game)   \n",
       "1                  Senior DevOps Engineer   \n",
       "2  KỸ SƯ PHẦN MỀM (C# Developer) - Urgent   \n",
       "3      Chuyên viên Thẩm định mua sắm CNTT   \n",
       "4       Chuyên viên Quản lý Chuyển đổi số   \n",
       "\n",
       "                                       company_name  \\\n",
       "0                            CÔNG TY CỔ PHẦN SUNTEK   \n",
       "1  CÔNG TY CỔ PHẦN CÔNG NGHỆ ỨNG DỤNG XANH VIỆT NAM   \n",
       "2                                         Aram Vina   \n",
       "3                                Ban Công nghệ BIDV   \n",
       "4                                Ban Công nghệ BIDV   \n",
       "\n",
       "                             salary                             address  \\\n",
       "0                      Thương lượng  ['Thành phố Thủ Đức, Hồ Chí Minh']   \n",
       "1  40.000.000 VND to 50.000.000 VND            ['Quận Ba Đình, Hà Nội']   \n",
       "2                 Lên tới 1.500 VND             ['Quận Tây Hồ, Hà Nội']   \n",
       "3                      Thương lượng       ['Quận Hai Bà Trưng, Hà Nội']   \n",
       "4                      Thương lượng       ['Quận Hai Bà Trưng, Hà Nội']   \n",
       "\n",
<<<<<<< HEAD
       "                                            industry            company_size  \\\n",
       "0                                 ['Giải trí/ Game']     ['25-99 Nhân viên']   \n",
       "1                                                 []           ['Nhân viên']   \n",
       "2  ['Thiết Kế, Software, Gia công phần mềm, Triển...     ['25-99 Nhân viên']   \n",
       "3                                      ['Ngân Hàng']  ['Hơn 1000 Nhân viên']   \n",
       "4                                      ['Ngân Hàng']  ['Hơn 1000 Nhân viên']   \n",
       "\n",
       "  company_nationality   experience_years                   position_level  \\\n",
       "0        ['Thailand']       ['Từ 2 năm']             ['Junior', 'Middle']   \n",
       "1                  []       ['Từ 5 năm']                       ['Senior']   \n",
       "2     ['South-Korea']  ['Không yêu cầu']  ['Fresher', 'Junior', 'Middle']   \n",
       "3         ['Vietnam']       ['Từ 3 năm']                       ['Middle']   \n",
       "4         ['Vietnam']       ['Từ 2 năm']             ['Junior', 'Middle']   \n",
       "\n",
       "  employment_type contract_type  \\\n",
       "0   ['In Office']  ['Fulltime']   \n",
       "1   ['In Office']  ['Fulltime']   \n",
       "2   ['In Office']  ['Fulltime']   \n",
       "3   ['In Office']  ['Fulltime']   \n",
       "4   ['In Office']  ['Fulltime']   \n",
=======
       "            date_posted                                           industry  \\\n",
       "0  ['Đăng 1 giờ trước']                                 ['Giải trí/ Game']   \n",
       "1  ['Đăng 3 giờ trước']                                                 []   \n",
       "2  ['Đăng 5 giờ trước']  ['Thiết Kế, Software, Gia công phần mềm, Triển...   \n",
       "3  ['Đăng 5 giờ trước']                                      ['Ngân Hàng']   \n",
       "4  ['Đăng 5 giờ trước']                                      ['Ngân Hàng']   \n",
       "\n",
       "             company_size company_nationality   experience_years  \\\n",
       "0     ['25-99 Nhân viên']        ['Thailand']       ['Từ 2 năm']   \n",
       "1           ['Nhân viên']                  []       ['Từ 5 năm']   \n",
       "2     ['25-99 Nhân viên']     ['South-Korea']  ['Không yêu cầu']   \n",
       "3  ['Hơn 1000 Nhân viên']         ['Vietnam']       ['Từ 3 năm']   \n",
       "4  ['Hơn 1000 Nhân viên']         ['Vietnam']       ['Từ 2 năm']   \n",
       "\n",
       "                    position_level employment_type contract_type  \\\n",
       "0             ['Junior', 'Middle']   ['In Office']  ['Fulltime']   \n",
       "1                       ['Senior']   ['In Office']  ['Fulltime']   \n",
       "2  ['Fresher', 'Junior', 'Middle']   ['In Office']  ['Fulltime']   \n",
       "3                       ['Middle']   ['In Office']  ['Fulltime']   \n",
       "4             ['Junior', 'Middle']   ['In Office']  ['Fulltime']   \n",
>>>>>>> 9da2071f8777a803b189c7200cdb6f275edb5c35
       "\n",
       "                                   technologies_used  \\\n",
       "0            ['UX/UI Design', 'HTML & CSS', 'UI/UX']   \n",
       "1  ['DevOps', 'Docker', 'Ansible', 'CI/CD', 'Terr...   \n",
       "2                ['C#', 'WPF', 'Software Developer']   \n",
       "3                       ['IT Support', 'IT Service']   \n",
       "4  ['Agile', 'Project Manager', 'Product Owner', ...   \n",
       "\n",
<<<<<<< HEAD
       "                                     job_description  \n",
       "0  ['Trách nhiệm công việc\\n1. General task\\nHave...  \n",
       "1  ['GA là một công ty khởi nghiệp, phát triển và...  \n",
       "2  ['CÔNG TY TNHH ARAM VINA cần tuyển dụng GẤP KỸ...  \n",
       "3  ['Trách nhiệm công việc\\nThực hiện công tác th...  \n",
       "4  ['Trách nhiệm công việc\\nPhối hợp triển khai t...  "
      ]
     },
     "execution_count": 270,
=======
       "                                     job_description  \\\n",
       "0  ['Trách nhiệm công việc\\n1. General task\\nHave...   \n",
       "1  ['GA là một công ty khởi nghiệp, phát triển và...   \n",
       "2  ['CÔNG TY TNHH ARAM VINA cần tuyển dụng GẤP KỸ...   \n",
       "3  ['Trách nhiệm công việc\\nThực hiện công tác th...   \n",
       "4  ['Trách nhiệm công việc\\nPhối hợp triển khai t...   \n",
       "\n",
       "                                         company_url  \\\n",
       "0  ['https://topdev.vn/nha-tuyen-dung/cong-ty-co-...   \n",
       "1  ['https://topdev.vn/nha-tuyen-dung/cong-ty-co-...   \n",
       "2  ['https://topdev.vn/nha-tuyen-dung/aram-vina-9...   \n",
       "3  ['https://topdev.vn/nha-tuyen-dung/ban-cong-ng...   \n",
       "4  ['https://topdev.vn/nha-tuyen-dung/ban-cong-ng...   \n",
       "\n",
       "                                             job_url  \n",
       "0  https://topdev.vn/viec-lam/ux-ui-designer-game...  \n",
       "1  https://topdev.vn/viec-lam/senior-devops-engin...  \n",
       "2  https://topdev.vn/viec-lam/ky-su-phan-mem-c-de...  \n",
       "3  https://topdev.vn/viec-lam/chuyen-vien-tham-di...  \n",
       "4  https://topdev.vn/viec-lam/chuyen-vien-quan-ly...  "
      ]
     },
     "execution_count": 3,
>>>>>>> 9da2071f8777a803b189c7200cdb6f275edb5c35
     "metadata": {},
     "output_type": "execute_result"
    }
   ],
   "source": [
<<<<<<< HEAD
    "df.head()"
   ]
  },
  {
   "cell_type": "markdown",
   "id": "2a384675",
   "metadata": {},
   "source": [
    "3. Xử lý giá trị null"
=======
    "data = pd.read_csv('../data/raw_data.csv')\n",
    "data.head()"
>>>>>>> 9da2071f8777a803b189c7200cdb6f275edb5c35
   ]
  },
  {
   "cell_type": "code",
<<<<<<< HEAD
   "execution_count": 271,
   "id": "d3d5be90",
   "metadata": {},
   "outputs": [
    {
     "data": {
      "text/plain": [
       "job_title              0\n",
       "company_name           0\n",
       "salary                 1\n",
       "address                0\n",
       "industry               0\n",
       "company_size           0\n",
       "company_nationality    0\n",
       "experience_years       0\n",
       "position_level         0\n",
       "employment_type        0\n",
       "contract_type          0\n",
       "technologies_used      0\n",
       "job_description        0\n",
       "dtype: int64"
      ]
     },
     "execution_count": 271,
     "metadata": {},
     "output_type": "execute_result"
    }
   ],
   "source": [
    "df.isnull().sum()"
   ]
  },
  {
   "cell_type": "markdown",
   "id": "eb0b6924",
   "metadata": {},
   "source": [
    "- Vì giá trị null quá ít nên ta sẽ xóa những dòng có giá trị null"
   ]
  },
  {
   "cell_type": "code",
   "execution_count": 272,
   "id": "02c98d5d",
   "metadata": {},
   "outputs": [],
   "source": [
    "df = df.dropna()"
   ]
  },
  {
   "cell_type": "markdown",
   "id": "d1b9edd1",
   "metadata": {},
   "source": [
    "4. Xem xét các giá trị tiêu biểu của mỗi thuộc tính"
   ]
  },
  {
   "cell_type": "code",
   "execution_count": 273,
   "id": "555c89ae",
=======
   "execution_count": 5,
   "id": "884de75a",
>>>>>>> 9da2071f8777a803b189c7200cdb6f275edb5c35
   "metadata": {},
   "outputs": [
    {
     "name": "stdout",
     "output_type": "stream",
     "text": [
<<<<<<< HEAD
      "job_title              Java Developer: 1.22%, Business Analyst: 1.02%...\n",
      "company_name           MBBANK: 12.92%, LG CNS Việt Nam: 4.48%, Tổng C...\n",
      "salary                 Thương lượng: 69.79%, 20.000.000 VND to 30.000...\n",
      "address                ['Quận Cầu Giấy, Hà Nội']: 18.62%, ['Quận Nam ...\n",
      "industry               ['Ngân Hàng']: 22.08%, ['Phần Mềm']: 15.36%, [...\n",
      "company_size           ['Hơn 1000 Nhân viên']: 35.91%, ['25-99 Nhân v...\n",
      "company_nationality    ['Vietnam']: 62.67%, ['South-Korea']: 7.43%, [...\n",
      "experience_years       ['Từ 2 năm']: 22.89%, ['Từ 1 năm']: 22.89%, ['...\n",
      "position_level         ['Junior', 'Middle']: 21.57%, ['Middle', 'Seni...\n",
      "employment_type        ['In Office']: 93.39%, ['Hybrid']: 3.36%, ['Re...\n",
      "contract_type          ['Fulltime']: 99.39%, ['Freelance']: 0.31%, ['...\n",
      "technologies_used      ['Business Analyst']: 1.32%, ['IT Support', 'T...\n",
      "job_description        ['Trách nhiệm công việc\\nPhát triển và bảo trì...\n",
      "dtype: object\n"
=======
      "<class 'pandas.core.frame.DataFrame'>\n",
      "RangeIndex: 984 entries, 0 to 983\n",
      "Data columns (total 16 columns):\n",
      " #   Column               Non-Null Count  Dtype \n",
      "---  ------               --------------  ----- \n",
      " 0   job_title            984 non-null    object\n",
      " 1   company_name         984 non-null    object\n",
      " 2   salary               983 non-null    object\n",
      " 3   address              984 non-null    object\n",
      " 4   date_posted          984 non-null    object\n",
      " 5   industry             984 non-null    object\n",
      " 6   company_size         984 non-null    object\n",
      " 7   company_nationality  984 non-null    object\n",
      " 8   experience_years     984 non-null    object\n",
      " 9   position_level       984 non-null    object\n",
      " 10  employment_type      984 non-null    object\n",
      " 11  contract_type        984 non-null    object\n",
      " 12  technologies_used    984 non-null    object\n",
      " 13  job_description      984 non-null    object\n",
      " 14  company_url          984 non-null    object\n",
      " 15  job_url              984 non-null    object\n",
      "dtypes: object(16)\n",
      "memory usage: 123.1+ KB\n"
>>>>>>> 9da2071f8777a803b189c7200cdb6f275edb5c35
     ]
    }
   ],
   "source": [
<<<<<<< HEAD
    "def format_percentages(col):\n",
    "    percentages = col.value_counts(normalize=True).mul(100).round(2)\n",
    "    return ', '.join([f\"{idx}: {val}%\" for idx, val in percentages.items()])\n",
    "\n",
    "formatted = df.apply(format_percentages)\n",
    "print(formatted)\n"
=======
    "data.info()"
>>>>>>> 9da2071f8777a803b189c7200cdb6f275edb5c35
   ]
  },
  {
   "cell_type": "markdown",
<<<<<<< HEAD
   "id": "37ac42a9",
   "metadata": {},
   "source": [
    "5. Xử lý thuộc tính salary"
   ]
  },
  {
   "cell_type": "code",
   "execution_count": 274,
   "id": "8c09655c",
   "metadata": {},
   "outputs": [
    {
     "data": {
      "text/plain": [
       "salary\n",
       "Thương lượng                        69.786368\n",
       "20.000.000 VND to 30.000.000 VND     1.831129\n",
       "Lên tới 2.500 USD                    1.525941\n",
       "10.000.000 VND to 20.000.000 VND     1.322482\n",
       "20.000.000 VND to 40.000.000 VND     1.017294\n",
       "                                      ...    \n",
       "12.000.000 VND to 42.000.000 VND     0.305188\n",
       "20.000.000 VND to 50.000.000 VND     0.305188\n",
       "17.000.000 VND to 25.000.000 VND     0.305188\n",
       "Lên tới 1.500 USD                    0.305188\n",
       "3.000.000 VND to 5.000.000 VND       0.305188\n",
       "Name: proportion, Length: 63, dtype: float64"
      ]
     },
     "execution_count": 274,
     "metadata": {},
     "output_type": "execute_result"
    }
   ],
   "source": [
    "percentages = df['salary'].value_counts(normalize=True).mul(100)\n",
    "percentages"
=======
   "id": "d4113af9",
   "metadata": {},
   "source": [
    "## Processing "
>>>>>>> 9da2071f8777a803b189c7200cdb6f275edb5c35
   ]
  },
  {
   "cell_type": "markdown",
<<<<<<< HEAD
   "id": "7b2577d2",
   "metadata": {},
   "source": [
    "- Mức lương \"Thương lượng\" sẽ được gán là NaN"
=======
   "id": "a139f0aa",
   "metadata": {},
   "source": [
    "### Tỷ lệ giá trị thiếu"
>>>>>>> 9da2071f8777a803b189c7200cdb6f275edb5c35
   ]
  },
  {
   "cell_type": "code",
<<<<<<< HEAD
   "execution_count": 275,
   "id": "1f7f204d",
   "metadata": {},
   "outputs": [],
   "source": [
    "df['salary'] = df['salary'].replace(\"Thương lượng\", np.nan)"
   ]
  },
  {
   "cell_type": "markdown",
   "id": "28f13e0b",
   "metadata": {},
   "source": [
    "- Các mức lương còn lại sẽ được chuẩn hóa theo kiểu dữ liệu số"
   ]
  },
  {
   "cell_type": "code",
   "execution_count": 276,
   "id": "d63e0e96",
   "metadata": {},
   "outputs": [],
   "source": [
    "def extract_salary(s):\n",
    "    matches = re.findall(r\"(\\d{1,3}(?:\\.\\d{3})+)\", s)\n",
    "    if len(matches) == 1:\n",
    "        return int(matches[0].replace('.',''))\n",
    "    elif len(matches) == 2:\n",
    "        min_salary = int(matches[0].replace('.', ''))\n",
    "        max_salary = int(matches[1].replace('.', ''))\n",
    "        return np.array([min_salary, max_salary])\n",
    "mask = df['salary'].notna()\n",
    "\n",
    "df.loc[mask, 'salary'] = df.loc[mask, 'salary'].apply(extract_salary)\n"
   ]
  },
  {
   "cell_type": "markdown",
   "id": "900ff2ca",
   "metadata": {},
   "source": [
    "- Chuyển giá trị USD thành VND"
   ]
  },
  {
   "cell_type": "code",
   "execution_count": 277,
   "id": "d096ae77",
   "metadata": {},
   "outputs": [
    {
     "data": {
      "text/plain": [
       "salary\n",
       "2500        5.102041\n",
       "35000000    3.401361\n",
       "1500        3.401361\n",
       "18000000    3.061224\n",
       "50000000    2.380952\n",
       "Name: proportion, dtype: float64"
      ]
     },
     "execution_count": 277,
     "metadata": {},
     "output_type": "execute_result"
    }
   ],
   "source": [
    "percentages = df['salary'].value_counts(normalize=True).mul(100)\n",
    "percentages.head()"
   ]
  },
  {
   "cell_type": "code",
   "execution_count": 278,
   "id": "8b5faf5b",
   "metadata": {},
   "outputs": [
    {
     "data": {
      "text/plain": [
       "0                     NaN\n",
       "1    [40000000, 50000000]\n",
       "2                37500000\n",
       "3                     NaN\n",
       "4                     NaN\n",
       "Name: salary, dtype: object"
      ]
     },
     "execution_count": 278,
     "metadata": {},
     "output_type": "execute_result"
    }
   ],
   "source": [
    "mask = df['salary'].apply(\n",
    "    lambda x: x if isinstance(x, int)\n",
    "    else x[0] if isinstance(x, list)\n",
    "    else np.inf\n",
    ") < 10000\n",
    "df.loc[mask, 'salary'] = df.loc[mask, 'salary'] * 25000\n",
    "df['salary'].head()"
   ]
  },
  {
   "cell_type": "markdown",
   "id": "a20ab3bc",
   "metadata": {},
   "source": [
    "6. Xử lý thuộc tính `experience_years`"
   ]
  },
  {
   "cell_type": "code",
   "execution_count": 279,
   "id": "8cfb484f",
   "metadata": {},
   "outputs": [
    {
     "data": {
      "text/plain": [
       "0      2\n",
       "1      5\n",
       "2      0\n",
       "3      3\n",
       "4      2\n",
       "5      5\n",
       "6      3\n",
       "7      2\n",
       "8      3\n",
       "9     10\n",
       "10     3\n",
       "11     7\n",
       "12     5\n",
       "13     3\n",
       "14     1\n",
       "15     1\n",
       "16     0\n",
       "17     3\n",
       "18     1\n",
       "19     2\n",
       "Name: experience_years, dtype: int64"
      ]
     },
     "execution_count": 279,
     "metadata": {},
     "output_type": "execute_result"
    }
   ],
   "source": [
    "def extract_experience (s):\n",
    "    reg = r'\\d+'\n",
    "    numbers = re.findall(reg, s) \n",
    "    if len(numbers) == 0:\n",
    "        return 0\n",
    "    elif len(numbers) == 1:\n",
    "        return int(numbers[0])\n",
    "    else: \n",
    "        return np.array([int(numbers[0]), int(numbers[1])])\n",
    "df['experience_years'] = df['experience_years'].apply(extract_experience)\n",
    "df['experience_years'].head(20)"
   ]
  },
  {
   "cell_type": "markdown",
   "id": "02b01532",
   "metadata": {},
   "source": [
    "7. Xử lý thuộc tính `company_size`"
   ]
  },
  {
   "cell_type": "code",
   "execution_count": 281,
   "id": "b9d5dd04",
   "metadata": {},
   "outputs": [
    {
     "data": {
      "text/plain": [
       "0    [25, 99]\n",
       "1         NaN\n",
       "2    [25, 99]\n",
       "3        1000\n",
       "4        1000\n",
       "5        1000\n",
       "6        1000\n",
       "7        1000\n",
       "8        1000\n",
       "9        1000\n",
       "Name: company_size, dtype: object"
      ]
     },
     "execution_count": 281,
     "metadata": {},
     "output_type": "execute_result"
    }
   ],
   "source": [
    "def extract_company_size(s):\n",
    "    reg = r'\\d+'\n",
    "    numbers = re.findall(reg, s) \n",
    "    if len(numbers) == 0:\n",
    "        return np.nan\n",
    "    elif len(numbers) == 1:\n",
    "        return int(numbers[0])\n",
    "    else: \n",
    "        return np.array([int(numbers[0]), int(numbers[1])])\n",
    "df['company_size'] = df['company_size'].apply(extract_company_size)\n",
    "df['company_size'].head(10)"
   ]
  },
  {
   "cell_type": "code",
   "execution_count": 284,
   "id": "e3c91167",
=======
   "execution_count": 12,
   "id": "eef99697",
>>>>>>> 9da2071f8777a803b189c7200cdb6f275edb5c35
   "metadata": {},
   "outputs": [
    {
     "data": {
      "text/html": [
       "<div>\n",
       "<style scoped>\n",
       "    .dataframe tbody tr th:only-of-type {\n",
       "        vertical-align: middle;\n",
       "    }\n",
       "\n",
       "    .dataframe tbody tr th {\n",
       "        vertical-align: top;\n",
       "    }\n",
       "\n",
       "    .dataframe thead th {\n",
       "        text-align: right;\n",
       "    }\n",
       "</style>\n",
       "<table border=\"1\" class=\"dataframe\">\n",
       "  <thead>\n",
       "    <tr style=\"text-align: right;\">\n",
       "      <th></th>\n",
<<<<<<< HEAD
       "      <th>job_title</th>\n",
       "      <th>company_name</th>\n",
       "      <th>salary</th>\n",
       "      <th>address</th>\n",
       "      <th>industry</th>\n",
       "      <th>company_size</th>\n",
       "      <th>company_nationality</th>\n",
       "      <th>experience_years</th>\n",
       "      <th>position_level</th>\n",
       "      <th>employment_type</th>\n",
       "      <th>contract_type</th>\n",
       "      <th>technologies_used</th>\n",
       "      <th>job_description</th>\n",
=======
       "      <th>missing</th>\n",
       "      <th>missing_prob</th>\n",
>>>>>>> 9da2071f8777a803b189c7200cdb6f275edb5c35
       "    </tr>\n",
       "  </thead>\n",
       "  <tbody>\n",
       "    <tr>\n",
<<<<<<< HEAD
       "      <th>0</th>\n",
       "      <td>UX/UI Designer (Game)</td>\n",
       "      <td>CÔNG TY CỔ PHẦN SUNTEK</td>\n",
       "      <td>NaN</td>\n",
       "      <td>['Thành phố Thủ Đức, Hồ Chí Minh']</td>\n",
       "      <td>['Giải trí/ Game']</td>\n",
       "      <td>[25, 99]</td>\n",
       "      <td>['Thailand']</td>\n",
       "      <td>2</td>\n",
       "      <td>['Junior', 'Middle']</td>\n",
       "      <td>['In Office']</td>\n",
       "      <td>['Fulltime']</td>\n",
       "      <td>['UX/UI Design', 'HTML &amp; CSS', 'UI/UX']</td>\n",
       "      <td>['Trách nhiệm công việc\\n1. General task\\nHave...</td>\n",
       "    </tr>\n",
       "    <tr>\n",
       "      <th>1</th>\n",
       "      <td>Senior DevOps Engineer</td>\n",
       "      <td>CÔNG TY CỔ PHẦN CÔNG NGHỆ ỨNG DỤNG XANH VIỆT NAM</td>\n",
       "      <td>[40000000, 50000000]</td>\n",
       "      <td>['Quận Ba Đình, Hà Nội']</td>\n",
       "      <td>[]</td>\n",
       "      <td>NaN</td>\n",
       "      <td>[]</td>\n",
       "      <td>5</td>\n",
       "      <td>['Senior']</td>\n",
       "      <td>['In Office']</td>\n",
       "      <td>['Fulltime']</td>\n",
       "      <td>['DevOps', 'Docker', 'Ansible', 'CI/CD', 'Terr...</td>\n",
       "      <td>['GA là một công ty khởi nghiệp, phát triển và...</td>\n",
       "    </tr>\n",
       "    <tr>\n",
       "      <th>2</th>\n",
       "      <td>KỸ SƯ PHẦN MỀM (C# Developer) - Urgent</td>\n",
       "      <td>Aram Vina</td>\n",
       "      <td>37500000</td>\n",
       "      <td>['Quận Tây Hồ, Hà Nội']</td>\n",
       "      <td>['Thiết Kế, Software, Gia công phần mềm, Triển...</td>\n",
       "      <td>[25, 99]</td>\n",
       "      <td>['South-Korea']</td>\n",
       "      <td>0</td>\n",
       "      <td>['Fresher', 'Junior', 'Middle']</td>\n",
       "      <td>['In Office']</td>\n",
       "      <td>['Fulltime']</td>\n",
       "      <td>['C#', 'WPF', 'Software Developer']</td>\n",
       "      <td>['CÔNG TY TNHH ARAM VINA cần tuyển dụng GẤP KỸ...</td>\n",
       "    </tr>\n",
       "    <tr>\n",
       "      <th>3</th>\n",
       "      <td>Chuyên viên Thẩm định mua sắm CNTT</td>\n",
       "      <td>Ban Công nghệ BIDV</td>\n",
       "      <td>NaN</td>\n",
       "      <td>['Quận Hai Bà Trưng, Hà Nội']</td>\n",
       "      <td>['Ngân Hàng']</td>\n",
       "      <td>1000</td>\n",
       "      <td>['Vietnam']</td>\n",
       "      <td>3</td>\n",
       "      <td>['Middle']</td>\n",
       "      <td>['In Office']</td>\n",
       "      <td>['Fulltime']</td>\n",
       "      <td>['IT Support', 'IT Service']</td>\n",
       "      <td>['Trách nhiệm công việc\\nThực hiện công tác th...</td>\n",
       "    </tr>\n",
       "    <tr>\n",
       "      <th>4</th>\n",
       "      <td>Chuyên viên Quản lý Chuyển đổi số</td>\n",
       "      <td>Ban Công nghệ BIDV</td>\n",
       "      <td>NaN</td>\n",
       "      <td>['Quận Hai Bà Trưng, Hà Nội']</td>\n",
       "      <td>['Ngân Hàng']</td>\n",
       "      <td>1000</td>\n",
       "      <td>['Vietnam']</td>\n",
       "      <td>2</td>\n",
       "      <td>['Junior', 'Middle']</td>\n",
       "      <td>['In Office']</td>\n",
       "      <td>['Fulltime']</td>\n",
       "      <td>['Agile', 'Project Manager', 'Product Owner', ...</td>\n",
       "      <td>['Trách nhiệm công việc\\nPhối hợp triển khai t...</td>\n",
=======
       "      <th>salary</th>\n",
       "      <td>1</td>\n",
       "      <td>0.101626</td>\n",
       "    </tr>\n",
       "    <tr>\n",
       "      <th>job_title</th>\n",
       "      <td>0</td>\n",
       "      <td>0.000000</td>\n",
       "    </tr>\n",
       "    <tr>\n",
       "      <th>company_name</th>\n",
       "      <td>0</td>\n",
       "      <td>0.000000</td>\n",
       "    </tr>\n",
       "    <tr>\n",
       "      <th>address</th>\n",
       "      <td>0</td>\n",
       "      <td>0.000000</td>\n",
       "    </tr>\n",
       "    <tr>\n",
       "      <th>date_posted</th>\n",
       "      <td>0</td>\n",
       "      <td>0.000000</td>\n",
       "    </tr>\n",
       "    <tr>\n",
       "      <th>industry</th>\n",
       "      <td>0</td>\n",
       "      <td>0.000000</td>\n",
       "    </tr>\n",
       "    <tr>\n",
       "      <th>company_size</th>\n",
       "      <td>0</td>\n",
       "      <td>0.000000</td>\n",
       "    </tr>\n",
       "    <tr>\n",
       "      <th>company_nationality</th>\n",
       "      <td>0</td>\n",
       "      <td>0.000000</td>\n",
       "    </tr>\n",
       "    <tr>\n",
       "      <th>experience_years</th>\n",
       "      <td>0</td>\n",
       "      <td>0.000000</td>\n",
       "    </tr>\n",
       "    <tr>\n",
       "      <th>position_level</th>\n",
       "      <td>0</td>\n",
       "      <td>0.000000</td>\n",
       "    </tr>\n",
       "    <tr>\n",
       "      <th>employment_type</th>\n",
       "      <td>0</td>\n",
       "      <td>0.000000</td>\n",
       "    </tr>\n",
       "    <tr>\n",
       "      <th>contract_type</th>\n",
       "      <td>0</td>\n",
       "      <td>0.000000</td>\n",
       "    </tr>\n",
       "    <tr>\n",
       "      <th>technologies_used</th>\n",
       "      <td>0</td>\n",
       "      <td>0.000000</td>\n",
       "    </tr>\n",
       "    <tr>\n",
       "      <th>job_description</th>\n",
       "      <td>0</td>\n",
       "      <td>0.000000</td>\n",
       "    </tr>\n",
       "    <tr>\n",
       "      <th>company_url</th>\n",
       "      <td>0</td>\n",
       "      <td>0.000000</td>\n",
       "    </tr>\n",
       "    <tr>\n",
       "      <th>job_url</th>\n",
       "      <td>0</td>\n",
       "      <td>0.000000</td>\n",
>>>>>>> 9da2071f8777a803b189c7200cdb6f275edb5c35
       "    </tr>\n",
       "  </tbody>\n",
       "</table>\n",
       "</div>"
      ],
      "text/plain": [
<<<<<<< HEAD
       "                                job_title  \\\n",
       "0                   UX/UI Designer (Game)   \n",
       "1                  Senior DevOps Engineer   \n",
       "2  KỸ SƯ PHẦN MỀM (C# Developer) - Urgent   \n",
       "3      Chuyên viên Thẩm định mua sắm CNTT   \n",
       "4       Chuyên viên Quản lý Chuyển đổi số   \n",
       "\n",
       "                                       company_name                salary  \\\n",
       "0                            CÔNG TY CỔ PHẦN SUNTEK                   NaN   \n",
       "1  CÔNG TY CỔ PHẦN CÔNG NGHỆ ỨNG DỤNG XANH VIỆT NAM  [40000000, 50000000]   \n",
       "2                                         Aram Vina              37500000   \n",
       "3                                Ban Công nghệ BIDV                   NaN   \n",
       "4                                Ban Công nghệ BIDV                   NaN   \n",
       "\n",
       "                              address  \\\n",
       "0  ['Thành phố Thủ Đức, Hồ Chí Minh']   \n",
       "1            ['Quận Ba Đình, Hà Nội']   \n",
       "2             ['Quận Tây Hồ, Hà Nội']   \n",
       "3       ['Quận Hai Bà Trưng, Hà Nội']   \n",
       "4       ['Quận Hai Bà Trưng, Hà Nội']   \n",
       "\n",
       "                                            industry company_size  \\\n",
       "0                                 ['Giải trí/ Game']     [25, 99]   \n",
       "1                                                 []          NaN   \n",
       "2  ['Thiết Kế, Software, Gia công phần mềm, Triển...     [25, 99]   \n",
       "3                                      ['Ngân Hàng']         1000   \n",
       "4                                      ['Ngân Hàng']         1000   \n",
       "\n",
       "  company_nationality  experience_years                   position_level  \\\n",
       "0        ['Thailand']                 2             ['Junior', 'Middle']   \n",
       "1                  []                 5                       ['Senior']   \n",
       "2     ['South-Korea']                 0  ['Fresher', 'Junior', 'Middle']   \n",
       "3         ['Vietnam']                 3                       ['Middle']   \n",
       "4         ['Vietnam']                 2             ['Junior', 'Middle']   \n",
       "\n",
       "  employment_type contract_type  \\\n",
       "0   ['In Office']  ['Fulltime']   \n",
       "1   ['In Office']  ['Fulltime']   \n",
       "2   ['In Office']  ['Fulltime']   \n",
       "3   ['In Office']  ['Fulltime']   \n",
       "4   ['In Office']  ['Fulltime']   \n",
       "\n",
       "                                   technologies_used  \\\n",
       "0            ['UX/UI Design', 'HTML & CSS', 'UI/UX']   \n",
       "1  ['DevOps', 'Docker', 'Ansible', 'CI/CD', 'Terr...   \n",
       "2                ['C#', 'WPF', 'Software Developer']   \n",
       "3                       ['IT Support', 'IT Service']   \n",
       "4  ['Agile', 'Project Manager', 'Product Owner', ...   \n",
       "\n",
       "                                     job_description  \n",
       "0  ['Trách nhiệm công việc\\n1. General task\\nHave...  \n",
       "1  ['GA là một công ty khởi nghiệp, phát triển và...  \n",
       "2  ['CÔNG TY TNHH ARAM VINA cần tuyển dụng GẤP KỸ...  \n",
       "3  ['Trách nhiệm công việc\\nThực hiện công tác th...  \n",
       "4  ['Trách nhiệm công việc\\nPhối hợp triển khai t...  "
      ]
     },
     "execution_count": 284,
=======
       "                     missing  missing_prob\n",
       "salary                     1      0.101626\n",
       "job_title                  0      0.000000\n",
       "company_name               0      0.000000\n",
       "address                    0      0.000000\n",
       "date_posted                0      0.000000\n",
       "industry                   0      0.000000\n",
       "company_size               0      0.000000\n",
       "company_nationality        0      0.000000\n",
       "experience_years           0      0.000000\n",
       "position_level             0      0.000000\n",
       "employment_type            0      0.000000\n",
       "contract_type              0      0.000000\n",
       "technologies_used          0      0.000000\n",
       "job_description            0      0.000000\n",
       "company_url                0      0.000000\n",
       "job_url                    0      0.000000"
      ]
     },
     "execution_count": 12,
>>>>>>> 9da2071f8777a803b189c7200cdb6f275edb5c35
     "metadata": {},
     "output_type": "execute_result"
    }
   ],
   "source": [
<<<<<<< HEAD
    "df.head()"
   ]
=======
    "def missing_values(data):\n",
    "    \"\"\"\n",
    "    This function takes a DataFrame and returns a DataFrame with the percentage of missing values for each column.\n",
    "    \"\"\"\n",
    "    missing = data.isnull().sum()\n",
    "    missing_prob = missing / len(data) * 100\n",
    "    missing = pd.DataFrame({'missing': missing, 'missing_prob': missing_prob})\n",
    "    missing = missing.sort_values(by='missing_prob', ascending=False)\n",
    "\n",
    "    return missing\n",
    "\n",
    "missing = missing_values(data)\n",
    "missing"
   ]
  },
  {
   "cell_type": "markdown",
   "id": "b1527f79",
   "metadata": {},
   "source": [
    "### Chuẩn hóa giá trị"
   ]
  },
  {
   "cell_type": "code",
   "execution_count": null,
   "id": "0ad7354a",
   "metadata": {},
   "outputs": [],
   "source": []
>>>>>>> 9da2071f8777a803b189c7200cdb6f275edb5c35
  }
 ],
 "metadata": {
  "kernelspec": {
<<<<<<< HEAD
   "display_name": "base",
=======
   "display_name": "min_ds-env2",
>>>>>>> 9da2071f8777a803b189c7200cdb6f275edb5c35
   "language": "python",
   "name": "python3"
  },
  "language_info": {
   "codemirror_mode": {
    "name": "ipython",
    "version": 3
   },
   "file_extension": ".py",
   "mimetype": "text/x-python",
   "name": "python",
   "nbconvert_exporter": "python",
   "pygments_lexer": "ipython3",
   "version": "3.12.4"
  }
 },
 "nbformat": 4,
 "nbformat_minor": 5
}
